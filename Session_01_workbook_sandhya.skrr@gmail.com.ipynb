{
  "nbformat": 4,
  "nbformat_minor": 0,
  "metadata": {
    "colab": {
      "name": "Session_01_workbook_sandhya.skrr@gmail.com.ipynb",
      "provenance": [],
      "collapsed_sections": []
    },
    "kernelspec": {
      "name": "python3",
      "display_name": "Python 3"
    },
    "language_info": {
      "name": "python"
    }
  },
  "cells": [
    {
      "cell_type": "markdown",
      "metadata": {
        "id": "Vsr0RuxF8gTt"
      },
      "source": [
        "#Workouts for the ML intro session\n"
      ]
    },
    {
      "cell_type": "markdown",
      "metadata": {
        "id": "VMrfCQbT8t-K"
      },
      "source": [
        "##Complete all the cells and upload the note book to github\n",
        "\n",
        "**Kindly use your own explanations and examples. you refer the internet but try to explain things with your own words and examples**\n"
      ]
    },
    {
      "cell_type": "markdown",
      "metadata": {
        "id": "4TiM_moD8-V_"
      },
      "source": [
        "\n",
        "\n",
        "1.  Will machine overtake humans in near future ? if yes explain why ? if not explain what prevents machines to learn/perform at human level ?\n",
        "\n",
        "\n",
        "\n",
        "\n"
      ]
    },
    {
      "cell_type": "markdown",
      "metadata": {
        "id": "fY4Srz2mLoOn"
      },
      "source": [
        "No, machines will not overtake humans in near future. Because, Now a days the worth of Artificial Intelligence is get increased in some of the situations like automation of vehicles, self drive cars, humans creating AI robots and etc.\n",
        "But it doesn't mean that the 5 years are above machines will overtake humans.\n",
        "Because, we are the one creating machines and tell them what does they do.\n",
        "So, we have to deside what should the machines learn and what shouldn't\n"
      ]
    },
    {
      "cell_type": "markdown",
      "metadata": {
        "id": "W9aIe-Pl9uED"
      },
      "source": [
        "2. What recent development you think is very important or inspiring in machine learning/AI field ? just few words on any one or two"
      ]
    },
    {
      "cell_type": "markdown",
      "metadata": {
        "id": "8-IL7LMHP9-p"
      },
      "source": [
        "I think the most important think in ML and AI  using in now a days are NLTK for processing human language, chatbots for easy and more informations will be give to the users, self drive cars without drivers"
      ]
    },
    {
      "cell_type": "markdown",
      "metadata": {
        "id": "XcQoFPwg-ChB"
      },
      "source": [
        "3. What is the differnce between regular programming or machine learning ?"
      ]
    },
    {
      "cell_type": "markdown",
      "metadata": {
        "id": "Jw7EFHXyP8WL"
      },
      "source": [
        "The regular programming language will not show the future predicts we, only give the logic and get the output from the system\n",
        "But, in case of ML it will be work in the datas and algorithm and show the future predicts"
      ]
    },
    {
      "cell_type": "markdown",
      "metadata": {
        "id": "gJXmTK0r-Ydb"
      },
      "source": [
        "4. What is model is machine learning ?"
      ]
    },
    {
      "cell_type": "markdown",
      "metadata": {
        "id": "6qQEwfG5Uwxv"
      },
      "source": [
        "Model is the output of the ML model which was developed under our datas and algorithm. In ML we don't call the output as output we call it as model, which was build by tons of datas, and suitable or matched algorithm."
      ]
    },
    {
      "cell_type": "markdown",
      "metadata": {
        "id": "XGuClocF-dRX"
      },
      "source": [
        "5. how/where machine learning stores its learning ? "
      ]
    },
    {
      "cell_type": "markdown",
      "metadata": {
        "id": "81uBDvsiWpfA"
      },
      "source": [
        "No, we don't store the data in ML model we just predicts the result from the existing model. I don't exactly know but i think we use neural networks."
      ]
    },
    {
      "cell_type": "markdown",
      "metadata": {
        "id": "SFVwc5jC-oDE"
      },
      "source": [
        "6. What is training ?"
      ]
    },
    {
      "cell_type": "markdown",
      "metadata": {
        "id": "jpbc-rYzXjMW"
      },
      "source": [
        "Training is a learning for ML models using their datas. Training datas contains sample datas for the future predicts it have 75% of datas and it will give the results using the 75% datas."
      ]
    },
    {
      "cell_type": "markdown",
      "metadata": {
        "id": "BDx5DiJ4-ro_"
      },
      "source": [
        "7. what is reinforcement learning ?"
      ]
    },
    {
      "cell_type": "markdown",
      "metadata": {
        "id": "r5lCZv_9ZMOy"
      },
      "source": [
        "Reinforcement Learning is the part of ML technique it was improve the model using their actions and experiences. It was more about experiences. In this type we also give rewards to the model."
      ]
    },
    {
      "cell_type": "markdown",
      "metadata": {
        "id": "hYk7xK_Z-9dN"
      },
      "source": [
        "8. Give use cases for classification, clustering and regression ?"
      ]
    },
    {
      "cell_type": "markdown",
      "metadata": {
        "id": "MaQ9wmF6bW6E"
      },
      "source": [
        "Regression and Classification are types of supervised learning algorithms while Clustering is a type of unsupervised algorithm."
      ]
    },
    {
      "cell_type": "markdown",
      "metadata": {
        "id": "k0YwsEGa_baZ"
      },
      "source": [
        "9. What is dimension ? will more dimension be helpful to improve a machine learning model ? "
      ]
    },
    {
      "cell_type": "markdown",
      "metadata": {
        "id": "jR_VajTQb62q"
      },
      "source": [
        "Dimension is the weightage of the datas.No, more dimensions will not be helpful to improve a ML model because, more dimension will cause predicts the wrong results.which cause the model accuracy will be decreased.More dimensions will cause noise like over fitting, underfitting"
      ]
    },
    {
      "cell_type": "markdown",
      "metadata": {
        "id": "-od_1BPK_ktN"
      },
      "source": [
        "10. what is hypothetical space ? explain with an example"
      ]
    },
    {
      "cell_type": "markdown",
      "metadata": {
        "id": "KSMV5NLxdWyZ"
      },
      "source": [
        "Hypothetical space is the set from ML algorithm, it will give the best possible result for the results. Example, it should not connect all the datas, it should not connect the less weight of datas, it will connect the possible datas. So that our model will work correctly"
      ]
    }
  ]
}