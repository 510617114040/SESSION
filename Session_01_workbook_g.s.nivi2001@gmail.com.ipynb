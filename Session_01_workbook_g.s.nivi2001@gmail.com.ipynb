{
 "cells": [
  {
   "cell_type": "markdown",
   "metadata": {
    "id": "Vsr0RuxF8gTt"
   },
   "source": [
    "#Workouts for the ML intro session\n"
   ]
  },
  {
   "cell_type": "markdown",
   "metadata": {
    "id": "VMrfCQbT8t-K"
   },
   "source": [
    "##Complete all the cells and upload the note book to github\n",
    "\n",
    "**Kindly use your own explanations and examples. you refer the internet but try to explain things with your own words and examples**\n"
   ]
  },
  {
   "cell_type": "markdown",
   "metadata": {
    "id": "4TiM_moD8-V_"
   },
   "source": [
    "\n",
    "\n",
    "1.  Will machine overtake humans in near future ? if yes explain why ? if not explain what prevents machines to learn/perform at human level ?\n",
    "\n",
    " I think machine cannot overtake humans .Its because human cannot provide the Intelligence to a machine .Machine can never overtake human .It cannot be as accurate as human's thinking .But robots have replaced humans in many fields .\n",
    "\n",
    "\n"
   ]
  },
  {
   "cell_type": "markdown",
   "metadata": {
    "id": "W9aIe-Pl9uED"
   },
   "source": [
    "2. What recent development you think is very important or inspiring in machine learning/AI field ? just few words on any one or two\n",
    "\n",
    " NLP,Data Analytics and Algorithms related to machine learning "
   ]
  },
  {
   "cell_type": "markdown",
   "metadata": {
    "id": "XcQoFPwg-ChB"
   },
   "source": [
    "3. What is the differnce between regular programming or machine learning ?\n",
    "           Regular programming is used to when the input and output are known .In regular programming there will be no test data set or train data set Whereas in Machine learning we are train the machine using code to predict the output .There will be huge dataset (Train dataset ,Test Dataset ,Validation set)  "
   ]
  },
  {
   "cell_type": "markdown",
   "metadata": {
    "id": "gJXmTK0r-Ydb"
   },
   "source": [
    "4. What is model is machine learning ?\n",
    "  A model is like a sample for the machine for prediction . It is got fron the train dataset ."
   ]
  },
  {
   "cell_type": "markdown",
   "metadata": {
    "id": "XGuClocF-dRX"
   },
   "source": [
    "5. how/where machine learning stores its learning ?\n",
    "            It stores the learning as variuos patterns .(dimensions)"
   ]
  },
  {
   "cell_type": "markdown",
   "metadata": {
    "id": "SFVwc5jC-oDE"
   },
   "source": [
    "6. What is training ?\n",
    "                Training carried over with the train dataset . Training requires huge data.It is the where the machine learns  its role ."
   ]
  },
  {
   "cell_type": "markdown",
   "metadata": {
    "id": "BDx5DiJ4-ro_"
   },
   "source": [
    "7. what is reinforcement learning ?\n",
    "    It is a type of Machine learning where continuous training/leraning  is done  ."
   ]
  },
  {
   "cell_type": "markdown",
   "metadata": {
    "id": "hYk7xK_Z-9dN"
   },
   "source": [
    "8. Give use cases for classification, clustering and regression ?\n",
    "          Classification - Segregating people based on their liking (Some like idly,some like dosa and some like pizza )\n",
    "          Clustering -   Amazon or any e-commerce site \n",
    "          Regression - Corona +ve or - ve "
   ]
  },
  {
   "cell_type": "markdown",
   "metadata": {
    "id": "k0YwsEGa_baZ"
   },
   "source": [
    "9. What is dimension ? will more dimension be helpful to improve a machine learning model ? \n",
    " Dimension is the number of rows that we have in our dataset .it is the parameter we have ,Based on which is the machine learns .NoIt is better to have one dimension as it may lead to nooise etc .(Dimension reduction)"
   ]
  },
  {
   "cell_type": "markdown",
   "metadata": {
    "id": "-od_1BPK_ktN"
   },
   "source": [
    "10. what is hypothetical space ? explain with an example\n",
    "      it i the possibility of the outcomes.Eg Tossing of a coin .Either it can be head or tail (0 or 1 )"
   ]
  }
 ],
 "metadata": {
  "colab": {
   "authorship_tag": "ABX9TyMGDD+hZbNw9MLuhXZs2kw8",
   "collapsed_sections": [],
   "name": "Session_01_workbook.ipynb",
   "provenance": []
  },
  "kernelspec": {
   "display_name": "Python 3",
   "language": "python",
   "name": "python3"
  },
  "language_info": {
   "codemirror_mode": {
    "name": "ipython",
    "version": 3
   },
   "file_extension": ".py",
   "mimetype": "text/x-python",
   "name": "python",
   "nbconvert_exporter": "python",
   "pygments_lexer": "ipython3",
   "version": "3.7.6"
  }
 },
 "nbformat": 4,
 "nbformat_minor": 1
}
