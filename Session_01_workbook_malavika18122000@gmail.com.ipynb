{
  "nbformat": 4,
  "nbformat_minor": 0,
  "metadata": {
    "colab": {
      "name": "Session_01_workbook.ipynb",
      "provenance": [],
      "collapsed_sections": []
    },
    "kernelspec": {
      "name": "python3",
      "display_name": "Python 3"
    },
    "language_info": {
      "name": "python"
    }
  },
  "cells": [
    {
      "cell_type": "markdown",
      "metadata": {
        "id": "Vsr0RuxF8gTt"
      },
      "source": [
        "#Workouts for the ML intro session\n"
      ]
    },
    {
      "cell_type": "markdown",
      "metadata": {
        "id": "VMrfCQbT8t-K"
      },
      "source": [
        "##Complete all the cells and upload the note book to github\n",
        "\n",
        "**Kindly use your own explanations and examples. you refer the internet but try to explain things with your own words and examples**\n"
      ]
    },
    {
      "cell_type": "markdown",
      "metadata": {
        "id": "4TiM_moD8-V_"
      },
      "source": [
        "\n",
        "\n",
        "1.  Will machine overtake humans in near future ? if yes explain why ? if not explain what prevents machines to learn/perform at human level ?\n",
        "yes,in the near future machines may overtake humans as humans get addicted to it.When the machine gets some intelligence from human,machine may think on their own which may be against\n",
        " human nature.\n",
        "\n",
        "\n",
        "\n",
        "\n"
      ]
    },
    {
      "cell_type": "markdown",
      "metadata": {
        "id": "W9aIe-Pl9uED"
      },
      "source": [
        "2. What recent development you think is very important or inspiring in machine learning/AI field ? just few words on any one or two\n",
        "Natural language processing is a subfield of linguistics, computer science, and artificial intelligence concerned with the interactions between computers and human language, in particular how to program computers to process and analyze large amounts of natural language data."
      ]
    },
    {
      "cell_type": "markdown",
      "metadata": {
        "id": "XcQoFPwg-ChB"
      },
      "source": [
        "3. What is the differnce between regular programming or machine learning ?\n",
        "In regular language,the programmers must provide the input data and the rules to produce the output whereas in machine learning,the developers can provide the input data and the necessary output so that model will automatically generate the rules and provide the desired model."
      ]
    },
    {
      "cell_type": "markdown",
      "metadata": {
        "id": "gJXmTK0r-Ydb"
      },
      "source": [
        "4. What is model is machine learning ?\n",
        "A model represents what was learned by a machine learning algorithm. The model is the “thing” that is saved after running a machine learning algorithm on training data and represents the rules, numbers, and any other algorithm-specific data structures required to make predictions."
      ]
    },
    {
      "cell_type": "markdown",
      "metadata": {
        "id": "XGuClocF-dRX"
      },
      "source": [
        "5. how/where machine learning stores its learning ? \n",
        "Machine learning is a subset of artificial intelligence. Machine learning technology uses data to make predictions or perform actions. The more data the tech gets exposed to, the more accurate its outputs. That's how algorithms in this area can get described as being able to 'learn'.\n"
      ]
    },
    {
      "cell_type": "markdown",
      "metadata": {
        "id": "SFVwc5jC-oDE"
      },
      "source": [
        "6. What is training ?\n",
        "Training a model simply means learning (determining) good values for all the weights and the bias from labeled examples.\n"
      ]
    },
    {
      "cell_type": "markdown",
      "metadata": {
        "id": "BDx5DiJ4-ro_"
      },
      "source": [
        "7. what is reinforcement learning ?\n",
        "Reinforcement learning (RL) is an area of machine learning concerned with how intelligent agents ought to take actions in an environment in order to maximize the notion of cumulative reward\n"
      ]
    },
    {
      "cell_type": "markdown",
      "metadata": {
        "id": "hYk7xK_Z-9dN"
      },
      "source": [
        "8. Give use cases for classification, clustering and regression ?\n",
        "Regression and Classification are types of supervised learning algorithms while Clustering is a type of unsupervised algorithm."
      ]
    },
    {
      "cell_type": "markdown",
      "metadata": {
        "id": "k0YwsEGa_baZ"
      },
      "source": [
        "9. What is dimension ? will more dimension be helpful to improve a machine learning model ? \n",
        "Dimension usually refers to the number of attributes, although it can also be used in form of \"second dimension of the data vector is person age\", but it is rather rare - in most cases dimension is \"number of attributes\"\n"
      ]
    },
    {
      "cell_type": "markdown",
      "metadata": {
        "id": "-od_1BPK_ktN"
      },
      "source": [
        "10. what is hypothetical space ? explain with an example\n",
        "Hypothesis space is the set of all the possible legal hypothesis. This is the set from which the machine learning algorithm would determine the best possible (only one) which would best describe the target function or the outputs\n",
        "\n",
        "\n"
      ]
    }
  ]
}