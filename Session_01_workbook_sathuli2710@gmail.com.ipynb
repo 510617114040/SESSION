{
 "cells": [
  {
   "cell_type": "markdown",
   "metadata": {
    "id": "Vsr0RuxF8gTt"
   },
   "source": [
    "#Workouts for the ML intro session\n"
   ]
  },
  {
   "cell_type": "markdown",
   "metadata": {
    "id": "VMrfCQbT8t-K"
   },
   "source": [
    "##Complete all the cells and upload the note book to github\n",
    "\n",
    "**Kindly use your own explanations and examples. you refer the internet but try to explain things with your own words and examples**\n"
   ]
  },
  {
   "cell_type": "markdown",
   "metadata": {
    "id": "4TiM_moD8-V_"
   },
   "source": [
    "\n",
    "\n",
    "1.  Will machine overtake humans in near future ? if yes explain why ? if not explain what prevents machines to learn/perform at human level ?\n",
    "\n",
    "    It is least possible for the machines in the near future to overtake humans. As machines evolve their creators evolve too. So I think it is not possibke for any machine to overcome humans anywhere in the future."
   ]
  },
  {
   "cell_type": "markdown",
   "metadata": {
    "id": "W9aIe-Pl9uED"
   },
   "source": [
    "2. What recent development you think is very important or inspiring in machine learning/AI field ? just few words on any one or two\n",
    "    I always admire  Bioengineering which makes me interested in NueraLink which is a recent AI developlment that connects human brains to computers."
   ]
  },
  {
   "cell_type": "markdown",
   "metadata": {
    "id": "XcQoFPwg-ChB"
   },
   "source": [
    "3. What is the differnce between regular programming or machine learning ?\n",
    "    In regular programming, we instruct th system with codes more of rules or furmulas and provide inputs to get the required ouputs but in Machine Learning, we provide certain set of inputs and their outputs to make the computers learn the pattern or formula using several algorithms."
   ]
  },
  {
   "cell_type": "markdown",
   "metadata": {
    "id": "gJXmTK0r-Ydb"
   },
   "source": [
    "4. What is model is machine learning ?\n",
    "    It is the system that we developed using our source codes."
   ]
  },
  {
   "cell_type": "markdown",
   "metadata": {
    "id": "XGuClocF-dRX"
   },
   "source": [
    "5. how/where machine learning stores its learning ? \n",
    "    It stors its learning in databases."
   ]
  },
  {
   "cell_type": "markdown",
   "metadata": {
    "id": "SFVwc5jC-oDE"
   },
   "source": [
    "6. What is training ?\n",
    "    Teaching the Machine with the training data."
   ]
  },
  {
   "cell_type": "markdown",
   "metadata": {
    "id": "BDx5DiJ4-ro_"
   },
   "source": [
    "7. what is reinforcement learning ?\n",
    "    Learning during actions eg.. robots walking."
   ]
  },
  {
   "cell_type": "markdown",
   "metadata": {
    "id": "hYk7xK_Z-9dN"
   },
   "source": [
    "8. Give use cases for classification, clustering and regression ?\n",
    "    Classification:\n",
    "        Email Spam filter\n",
    "    Clustering:\n",
    "        Recommendation System\n",
    "    Regression:\n",
    "        Sales Price "
   ]
  },
  {
   "cell_type": "markdown",
   "metadata": {
    "id": "k0YwsEGa_baZ"
   },
   "source": [
    "9. What is dimension ? will more dimension be helpful to improve a machine learning model ? erfit\n",
    "    Dimension is a feature or column for a image?data. More dimension will not help in improving Machine Learning Model because the model might confuse or overfit."
   ]
  },
  {
   "cell_type": "markdown",
   "metadata": {
    "id": "-od_1BPK_ktN"
   },
   "source": [
    "10. what is hypothetical space ? explain with an example\n",
    "    Set of all possible values that the model can learn from the best way is call a hypothetical space. eg: a Planet"
   ]
  }
 ],
 "metadata": {
  "colab": {
   "authorship_tag": "ABX9TyMGDD+hZbNw9MLuhXZs2kw8",
   "collapsed_sections": [],
   "name": "Session_01_workbook.ipynb",
   "provenance": []
  },
  "kernelspec": {
   "display_name": "Python 3",
   "language": "python",
   "name": "python3"
  },
  "language_info": {
   "codemirror_mode": {
    "name": "ipython",
    "version": 3
   },
   "file_extension": ".py",
   "mimetype": "text/x-python",
   "name": "python",
   "nbconvert_exporter": "python",
   "pygments_lexer": "ipython3",
   "version": "3.8.8"
  },
  "toc": {
   "base_numbering": 1,
   "nav_menu": {},
   "number_sections": true,
   "sideBar": true,
   "skip_h1_title": false,
   "title_cell": "Table of Contents",
   "title_sidebar": "Contents",
   "toc_cell": false,
   "toc_position": {},
   "toc_section_display": true,
   "toc_window_display": false
  }
 },
 "nbformat": 4,
 "nbformat_minor": 1
}
