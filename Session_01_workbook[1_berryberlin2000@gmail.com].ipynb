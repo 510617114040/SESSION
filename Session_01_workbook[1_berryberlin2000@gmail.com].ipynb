{
  "nbformat": 4,
  "nbformat_minor": 0,
  "metadata": {
    "colab": {
      "name": "Session_01_workbook[1].ipynb",
      "provenance": [],
      "collapsed_sections": []
    },
    "kernelspec": {
      "name": "python3",
      "display_name": "Python 3"
    },
    "language_info": {
      "name": "python"
    }
  },
  "cells": [
    {
      "cell_type": "markdown",
      "metadata": {
        "id": "Vsr0RuxF8gTt"
      },
      "source": [
        "#Workouts for the ML intro session\n"
      ]
    },
    {
      "cell_type": "markdown",
      "metadata": {
        "id": "VMrfCQbT8t-K"
      },
      "source": [
        "##Complete all the cells and upload the note book to github\n",
        "\n",
        "**Kindly use your own explanations and examples. you refer the internet but try to explain things with your own words and examples**\n"
      ]
    },
    {
      "cell_type": "markdown",
      "metadata": {
        "id": "4TiM_moD8-V_"
      },
      "source": [
        "\n",
        "\n",
        "1.  Will machine overtake humans in near future ? if yes explain why ? if not explain what prevents machines to learn/perform at human level ?\n",
        "\n",
        "yes,the idea of machines overcoming humans can be intrinsically related to conscious machines.Surpassing humans would mean replicating,reaching and exceeding key distinctive properties of human beings.\n",
        "\n",
        "\n"
      ]
    },
    {
      "cell_type": "markdown",
      "metadata": {
        "id": "W9aIe-Pl9uED"
      },
      "source": [
        "2. What recent development you think is very important or inspiring in machine learning/AI field ? just few words on any one or two"
      ]
    },
    {
      "cell_type": "code",
      "metadata": {
        "id": "EP2K2qGoHrmm"
      },
      "source": [
        "The intersection of ML and IOT.\n",
        "ML in cyber security\n",
        "rise of AI ETHICS.\n",
        "AI Engineering."
      ],
      "execution_count": null,
      "outputs": []
    },
    {
      "cell_type": "markdown",
      "metadata": {
        "id": "XcQoFPwg-ChB"
      },
      "source": [
        "3. What is the differnce between regular programming or machine learning ?\n",
        "regular programming is a manual process.but,without any programming the logic,one has to manually formulate or code rules.In machine learning ,on the other hand, the algorithm automatically formulates the rules from the data."
      ]
    },
    {
      "cell_type": "markdown",
      "metadata": {
        "id": "gJXmTK0r-Ydb"
      },
      "source": [
        "4. What is model is machine learning ?\n",
        "Amodel represents what was learned by a machine learning algorithm on training data and represents the rules,numbers,and any other algorithm specific data structures required to make predictions."
      ]
    },
    {
      "cell_type": "markdown",
      "metadata": {
        "id": "XGuClocF-dRX"
      },
      "source": [
        "5. how/where machine learning stores its learning ? \n",
        "no,you dont store input or output values,but internal stste of the algorithm."
      ]
    },
    {
      "cell_type": "markdown",
      "metadata": {
        "id": "SFVwc5jC-oDE"
      },
      "source": [
        "6. What is training ?\n",
        "Training is the machnine learning algorithm builds a model by examining many examples and attemting to find a model that minimizes loss."
      ]
    },
    {
      "cell_type": "markdown",
      "metadata": {
        "id": "BDx5DiJ4-ro_"
      },
      "source": [
        "7. what is reinforcement learning ?\n",
        "ML  concerned with how the intelligent agents ought to take actions in an environment in order to maximize the notion of cumulative reward."
      ]
    },
    {
      "cell_type": "markdown",
      "metadata": {
        "id": "hYk7xK_Z-9dN"
      },
      "source": [
        "8. Give use cases for classification, clustering and regression ?\n",
        "Regression and classification are types of supervised learning algorithm while clustering is a type of unsupervised algorithm."
      ]
    },
    {
      "cell_type": "markdown",
      "metadata": {
        "id": "k0YwsEGa_baZ"
      },
      "source": [
        "9. What is dimension ? will more dimension be helpful to improve a machine learning model ? \n",
        "the error increases with the number of features.it is refers to algorithm are harder to design in high dimensions and often have a running time exponential in the dimensions"
      ]
    },
    {
      "cell_type": "markdown",
      "metadata": {
        "id": "-od_1BPK_ktN"
      },
      "source": [
        "10. what is hypothetical space ? explain with an example\n",
        "Hypothetical space is the set of all the possible legal hypothesis. this is the set of ML algorithm would determine the best possible which would best describe the target function or the output.\n",
        "eg:EARTH."
      ]
    }
  ]
}