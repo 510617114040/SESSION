{
  "nbformat": 4,
  "nbformat_minor": 0,
  "metadata": {
    "colab": {
      "name": "Session_01_workbook.ipynb",
      "provenance": [],
      "collapsed_sections": []
    },
    "kernelspec": {
      "name": "python3",
      "display_name": "Python 3"
    },
    "language_info": {
      "name": "python"
    }
  },
  "cells": [
    {
      "cell_type": "markdown",
      "metadata": {
        "id": "Vsr0RuxF8gTt"
      },
      "source": [
        "#Workouts for the ML intro session\n"
      ]
    },
    {
      "cell_type": "markdown",
      "metadata": {
        "id": "VMrfCQbT8t-K"
      },
      "source": [
        "##Complete all the cells and upload the note book to github\n",
        "\n",
        "**Kindly use your own explanations and examples. you refer the internet but try to explain things with your own words and examples**\n"
      ]
    },
    {
      "cell_type": "markdown",
      "metadata": {
        "id": "4TiM_moD8-V_"
      },
      "source": [
        "\n",
        "\n",
        "1.  Will machine overtake humans in near future ? if yes explain why ? if not explain what prevents machines to learn/perform at human level \n",
        "some of the world's smartest people are scared. Or if not outright scared, then alarmed. The list is long. It includes Bill Gates. Stephen Hawking was there in it. And so is Elon Musk. They all warn against smart machines, which are so good at doing things due to their advanced artificial intelligence (AI) that they will do bad things to humans. The concerns are apparently real enough for some of these smartest people to take a public stand on this topic. In 2015, a letter penned by 150 top scientists, entrepreneurs, writers and others warned against the dangers of AI.\n",
        "\n",
        "\n",
        "\n",
        "\n"
      ]
    },
    {
      "cell_type": "markdown",
      "metadata": {
        "id": "W9aIe-Pl9uED"
      },
      "source": [
        "2. What recent development you think is very important or inspiring in machine learning/AI field ? just few words on any one or two\n",
        "These five AI developments will shape 2021 and beyond\n",
        "        \"  AI and vaccine development. \n",
        "        \"  Fully automated driving and the rollout of robotaxis. \n",
        "        \"  Applied natural language processing. \n",
        "        \"  Quantum computing. \n",
        "        \"  AI chips."
      ]
    },
    {
      "cell_type": "markdown",
      "metadata": {
        "id": "XcQoFPwg-ChB"
      },
      "source": [
        "3. What is the differnce between regular programming or machine learning \n",
        "Traditional programming is a manual process—meaning a person (programmer) creates the program. But without anyone programming the logic, one has to manually formulate or code rules. In machine learning, on the other hand, the algorithm automatically formulates the rules from the data. "
      ]
    },
    {
      "cell_type": "markdown",
      "metadata": {
        "id": "gJXmTK0r-Ydb"
      },
      "source": [
        "4. What is model is machine learning \n",
        "A “model” in machine learning is the output of a machine learning algorithm run on data. A model represents what was learned by a machine learning algorithm"
      ]
    },
    {
      "cell_type": "markdown",
      "metadata": {
        "id": "XGuClocF-dRX"
      },
      "source": [
        "5. how/where machine learning stores its learning \n",
        "Machine learning is a subset of artificial intelligence. Machine learning technology uses data to make predictions or perform actions. The more data the tech gets exposed to, the more accurate its outputs. That's how algorithms in this area can get described as being able to 'learn'."
      ]
    },
    {
      "cell_type": "markdown",
      "metadata": {
        "id": "SFVwc5jC-oDE"
      },
      "source": [
        "6. What is training \n",
        "Training is teaching, or developing in oneself or others, any skills and knowledge or fitness that relate to specific useful competencies. Training also refers to the development of physical fitness related to a specific competence, such as sport, martial arts, military applications and some other occupations.\n"
      ]
    },
    {
      "cell_type": "markdown",
      "metadata": {
        "id": "BDx5DiJ4-ro_"
      },
      "source": [
        "7. what is reinforcement learning \n",
        "The reinforcement learning theory is based on Markov decision processes, in which a combination of an action and a particular state of the environment entirely determines the probability of getting a particular amount of reward as well as how the state will change"
      ]
    },
    {
      "cell_type": "markdown",
      "metadata": {
        "id": "hYk7xK_Z-9dN"
      },
      "source": [
        "8. Give use cases for classification, clustering and regression \n",
        "Regression and Classification are types of supervised learning algorithms while Clustering is a type of unsupervised algorithm. When the output variable is continuous, then it is a regression problem whereas when it contains discrete values, it is a classification problem."
      ]
    },
    {
      "cell_type": "markdown",
      "metadata": {
        "id": "k0YwsEGa_baZ"
      },
      "source": [
        "9. What is dimension ? will more dimension be helpful to improve a machine learning model \n",
        "Dimensionality reduction refers to techniques for reducing the number of input variables in training data. When dealing with high dimensional data, it is often useful to reduce the dimensionality by projecting the data to a lower dimensional subspace which captures the “essence” of the data."
      ]
    },
    {
      "cell_type": "markdown",
      "metadata": {
        "id": "-od_1BPK_ktN"
      },
      "source": [
        "10. what is hypothetical space ? explain with an example\n",
        "A hypothetical statement may assert a connection between two actual statements ; for example, \\\" If Jones has passed his examinations, his appointment is certain \\\", and \\\" If all metals are conductors, then copper is a conductor ''. Such hypothetical we will designate \\\" concrete \\\""
      ]
    }
  ]
}