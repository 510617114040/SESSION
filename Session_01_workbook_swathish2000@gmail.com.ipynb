{
  "nbformat": 4,
  "nbformat_minor": 0,
  "metadata": {
    "colab": {
      "name": "Session_01_workbook.ipynb",
      "provenance": [],
      "collapsed_sections": []
    },
    "kernelspec": {
      "name": "python3",
      "display_name": "Python 3"
    },
    "language_info": {
      "name": "python"
    }
  },
  "cells": [
    {
      "cell_type": "code",
      "metadata": {
        "id": "rDheK6jgAaVa"
      },
      "source": [
        ""
      ],
      "execution_count": null,
      "outputs": []
    },
    {
      "cell_type": "markdown",
      "metadata": {
        "id": "Vsr0RuxF8gTt"
      },
      "source": [
        "#Workouts for the ML intro session\n"
      ]
    },
    {
      "cell_type": "markdown",
      "metadata": {
        "id": "VMrfCQbT8t-K"
      },
      "source": [
        "##Complete all the cells and upload the note book to github\n",
        "\n",
        "**Kindly use your own explanations and examples. you refer the internet but try to explain things with your own words and examples**\n"
      ]
    },
    {
      "cell_type": "markdown",
      "metadata": {
        "id": "4TiM_moD8-V_"
      },
      "source": [
        "\n",
        "\n",
        "1.  Will machine overtake humans in near future ? if yes explain why ? if not explain what prevents machines to learn/perform at human level ?\n",
        "\n",
        "Yes I think So!!!\n",
        "\n",
        "In 2015, a letter penned by 150 top scientists, entrepreneurs, writers and others warned against the dangers of AI.\n",
        "\n",
        "Late British physicist Stephen Hawking warned that the emergence of AI could be the \"worst event in the history of our civilisation.\" Tesla founder Elon Musk is of the belief that the AI research would create an \"immortal dictator\".\n",
        "\n",
        "\n",
        "\n"
      ]
    },
    {
      "cell_type": "markdown",
      "metadata": {
        "id": "W9aIe-Pl9uED"
      },
      "source": [
        "2. What recent development you think is very important or inspiring in machine learning/AI field ? just few words on any one or two\n",
        "\n",
        "Machine Learning in Cyber Security\n",
        "\n",
        "The Intersection Of ML and IoT"
      ]
    },
    {
      "cell_type": "markdown",
      "metadata": {
        "id": "XcQoFPwg-ChB"
      },
      "source": [
        "3. What is the differnce between regular programming or machine learning ?\n",
        "\n",
        "Regular programming is a manual process—meaning a person (programmer) creates the program. But without anyone programming the logic, one has to manually formulate or code rules. \n",
        "\n",
        "In machine learning, on the other hand, the algorithm automatically formulates the rules from the data."
      ]
    },
    {
      "cell_type": "markdown",
      "metadata": {
        "id": "gJXmTK0r-Ydb"
      },
      "source": [
        "4. What is model is machine learning ?\n",
        "\n",
        "A “model” in machine learning is the output of a machine learning algorithm run on data. \n",
        "\n",
        "A model represents what was learned by a machine learning algorithm."
      ]
    },
    {
      "cell_type": "markdown",
      "metadata": {
        "id": "XGuClocF-dRX"
      },
      "source": [
        "5. how/where machine learning stores its learning ?\n",
        "\n",
        "Flash storage is commonplace now, while NVMe flash is emerging as the medium of choice for applications that require the fastest access for data stored near the GPU. Spinning disk is still there too, but is increasingly being relegated to bulk storage on lower tiers."
      ]
    },
    {
      "cell_type": "markdown",
      "metadata": {
        "id": "SFVwc5jC-oDE"
      },
      "source": [
        "6. What is training ?\n",
        "\n",
        "Training is a process of teaching the machine that what is has to do..using some amount of data."
      ]
    },
    {
      "cell_type": "markdown",
      "metadata": {
        "id": "BDx5DiJ4-ro_"
      },
      "source": [
        "7. what is reinforcement learning ?\n",
        "\n",
        "Reinforcement Learning(RL) is a type of machine learning technique that enables an agent to learn in an interactive environment by trial and error using feedback from its own actions and experiences."
      ]
    },
    {
      "cell_type": "markdown",
      "metadata": {
        "id": "hYk7xK_Z-9dN"
      },
      "source": [
        "8. Give use cases for classification, clustering and regression ?\n",
        "\n",
        "Regression is widely used for applications such as sales forecasting, risk assessment analysis in health insurance companies and requires minimal tuning.\n",
        "\n",
        "Clustering is used to discover natural grouping in data.\n",
        "\n",
        "Classification used to a predict or classify features or group from a collection of data. "
      ]
    },
    {
      "cell_type": "markdown",
      "metadata": {
        "id": "k0YwsEGa_baZ"
      },
      "source": [
        "9. What is dimension ? will more dimension be helpful to improve a machine learning model ? \n",
        "\n",
        "The number of input variables or features for a dataset is referred to as its dimensionality.\n",
        "\n",
        "No, More number of data dimensions increases the difficulty for Machine Learning models to take account of all the representation. So we have reduce dimension using dimensionality reduction.\n",
        "\n",
        "Dimensionality reduction refers to techniques that reduce the number of input variables in a dataset."
      ]
    },
    {
      "cell_type": "markdown",
      "metadata": {
        "id": "-od_1BPK_ktN"
      },
      "source": [
        "10. what is hypothetical space ? explain with an example\n",
        "\n",
        "Hypothesis space is the set of all the possible legal hypothesis. \n",
        "\n",
        "Eg: The training examples are E={a1,a2,a3,a4,a5}. The target feature is Reads. Because the table specifies some of the values of this feature, and the learner will make predictions on unseen cases, the learner requires a bias. In hypothesis space learning, the bias is imposed by the hypothesis space."
      ]
    }
  ]
}