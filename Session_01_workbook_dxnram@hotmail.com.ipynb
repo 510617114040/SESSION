{
  "nbformat": 4,
  "nbformat_minor": 0,
  "metadata": {
    "colab": {
      "name": "Session_01_workbook.ipynb",
      "provenance": [],
      "collapsed_sections": [],
      "include_colab_link": true
    },
    "kernelspec": {
      "name": "python3",
      "display_name": "Python 3"
    },
    "language_info": {
      "name": "python"
    }
  },
  "cells": [
    {
      "cell_type": "markdown",
      "metadata": {
        "id": "view-in-github",
        "colab_type": "text"
      },
      "source": [
        "<a href=\"https://colab.research.google.com/github/resh2001/SESSION/blob/dev/Session_01_workbook_dxnram%40hotmail.com.ipynb\" target=\"_parent\"><img src=\"https://colab.research.google.com/assets/colab-badge.svg\" alt=\"Open In Colab\"/></a>"
      ]
    },
    {
      "cell_type": "markdown",
      "metadata": {
        "id": "Vsr0RuxF8gTt"
      },
      "source": [
        "#Workouts for the ML intro session\n"
      ]
    },
    {
      "cell_type": "markdown",
      "metadata": {
        "id": "VMrfCQbT8t-K"
      },
      "source": [
        "##Complete all the cells and upload the note book to github\n",
        "\n",
        "**Kindly use your own explanations and examples. you refer the internet but try to explain things with your own words and examples**\n"
      ]
    },
    {
      "cell_type": "markdown",
      "metadata": {
        "id": "4TiM_moD8-V_"
      },
      "source": [
        "\n",
        "\n",
        "1.  Will machine overtake humans in near future ? if yes explain why ? if not explain what prevents machines to learn/perform at human level ?\n",
        "\n",
        "\n",
        "\n",
        "\n"
      ]
    },
    {
      "cell_type": "markdown",
      "metadata": {
        "id": "hCG46SYLs1u5"
      },
      "source": [
        "Yes, As of the development in technologies, Machines are used in various fields minimizing human work. But it cannot replace human in our near future,as no Machine learning or AI can give 100% of human work.\n",
        "so, Machines can be useful for humans but it cannot overtake human at any situation."
      ]
    },
    {
      "cell_type": "markdown",
      "metadata": {
        "id": "W9aIe-Pl9uED"
      },
      "source": [
        "2. What recent development you think is very important or inspiring in machine learning/AI field ? just few words on any one or two"
      ]
    },
    {
      "cell_type": "markdown",
      "metadata": {
        "id": "p9um0KUzt1CH"
      },
      "source": [
        "For me the most inspiring is Automatic car (tesla) as i wondered many times that how a machine could be more accurate in route and also it's advantages make me thnk that it is more important and a great inspiring in AI.\n"
      ]
    },
    {
      "cell_type": "markdown",
      "metadata": {
        "id": "XcQoFPwg-ChB"
      },
      "source": [
        "3. What is the differnce between regular programming or machine learning ?"
      ]
    },
    {
      "cell_type": "markdown",
      "metadata": {
        "id": "z_FF7Zd2udk-"
      },
      "source": [
        "Regular Programming is simple way in which we can get output using the predefined functions.It's just like a calculator.\n",
        "whereas Machine Learning is a great thing which machine learns by itself and it trains, test and then produces the output.It's similar to playing chess."
      ]
    },
    {
      "cell_type": "markdown",
      "metadata": {
        "id": "gJXmTK0r-Ydb"
      },
      "source": [
        "4. What is model is machine learning ?"
      ]
    },
    {
      "cell_type": "markdown",
      "metadata": {
        "id": "ttguXonzvAQ1"
      },
      "source": [
        "The major models in machine learning are\n",
        "1. Supervised Learning model\n",
        "2. Unsupervised Learning model\n",
        "3. Reinforcement Learning model\n",
        "4. Linear Regression model.\n",
        "A model is the output of Machine learning algorithm that run the data."
      ]
    },
    {
      "cell_type": "markdown",
      "metadata": {
        "id": "XGuClocF-dRX"
      },
      "source": [
        "5. how/where machine learning stores its learning ? "
      ]
    },
    {
      "cell_type": "markdown",
      "metadata": {
        "id": "C5taEOD4vqUR"
      },
      "source": [
        "There is no special storage for machine learning to store its learned data, but there occur some internal changes which reflect on the next output.\n",
        "these internal changes are in the form of variables.\n",
        "these variables we need to store."
      ]
    },
    {
      "cell_type": "markdown",
      "metadata": {
        "id": "SFVwc5jC-oDE"
      },
      "source": [
        "6. What is training ?"
      ]
    },
    {
      "cell_type": "markdown",
      "metadata": {
        "id": "KkHEMduCwPm7"
      },
      "source": [
        "Training is the process in which the data sets which are already exists or sample datas are given to the machine for its learning and classification process."
      ]
    },
    {
      "cell_type": "markdown",
      "metadata": {
        "id": "BDx5DiJ4-ro_"
      },
      "source": [
        "7. what is reinforcement learning ?"
      ]
    },
    {
      "cell_type": "markdown",
      "metadata": {
        "id": "MLbvMk2kwed4"
      },
      "source": [
        "Reinforcement Learning is the process in which the it has value based rewards on iterative approach."
      ]
    },
    {
      "cell_type": "markdown",
      "metadata": {
        "id": "hYk7xK_Z-9dN"
      },
      "source": [
        "8. Give use cases for classification, clustering and regression ?"
      ]
    },
    {
      "cell_type": "markdown",
      "metadata": {
        "id": "PBsPIFC7xDqQ"
      },
      "source": [
        "Classification: need to learn decision making ex: classifing the grades based on marks\n",
        "clustering : finding similarities\n",
        "ex: grouping A grade students separately.\n",
        "Regression : predicting particular output.\n",
        "ex: finding the cost of particualar area or plots."
      ]
    },
    {
      "cell_type": "markdown",
      "metadata": {
        "id": "k0YwsEGa_baZ"
      },
      "source": [
        "9. What is dimension ? will more dimension be helpful to improve a machine learning model ? "
      ]
    },
    {
      "cell_type": "markdown",
      "metadata": {
        "id": "BhfYef_3yZ24"
      },
      "source": [
        "Dimension is the number of input variables or features for dataset.\n",
        "when given more features will increase the accuracy.\n",
        "thus more the dimension is more helpful to improve a ML model."
      ]
    },
    {
      "cell_type": "markdown",
      "metadata": {
        "id": "-od_1BPK_ktN"
      },
      "source": [
        "10. what is hypothetical space ? explain with an example"
      ]
    },
    {
      "cell_type": "markdown",
      "metadata": {
        "id": "926zPRGczVpW"
      },
      "source": [
        "space where we can predict our output by set of features"
      ]
    }
  ]
}